{
 "cells": [
  {
   "cell_type": "code",
   "execution_count": null,
   "metadata": {},
   "outputs": [],
   "source": [
    "import pandas as pd\n",
    "import os\n",
    "import numpy as np\n",
    "\n",
    "path='data/WINDOWED_NEW'\n",
    "\n",
    "data_file_path=os.path.join(path,'ref_data.dat')\n",
    "ref_dataset=pd.read_csv(data_file_path,header=None).values\n",
    "print(ref_dataset.shape)\n",
    "\n",
    "data= np.load(os.path.join(path,'refrigerator_data.dat.npy'))\n",
    "target= np.load(os.path.join(path,'refrigerator_target.dat.npy'))\n",
    "\n",
    "import collections\n",
    "print('refrigerator bins:',collections.Counter(target))\n",
    "\n",
    "data=data.reshape(data.shape[0],data.shape[1],1)\n",
    "\n",
    "ref_bins=4\n",
    "ref_window_size=2401\n",
    "\n",
    "from keras.utils import np_utils\n",
    "target = np_utils.to_categorical(target)\n",
    "data=data/500.0"
   ]
  },
  {
   "cell_type": "code",
   "execution_count": null,
   "metadata": {},
   "outputs": [],
   "source": [
    "from sklearn.model_selection import train_test_split\n",
    "\n",
    "train_data,test_data,train_target,test_target=train_test_split(data,target,test_size=0.1)"
   ]
  },
  {
   "cell_type": "code",
   "execution_count": null,
   "metadata": {},
   "outputs": [],
   "source": [
    "train_data.shape[1:]"
   ]
  },
  {
   "cell_type": "code",
   "execution_count": null,
   "metadata": {},
   "outputs": [],
   "source": [
    "from keras.models import Sequential\n",
    "from keras.layers import Dense, Dropout,Activation, Flatten\n",
    "from keras.layers import Conv1D, MaxPooling1D\n",
    "from keras.layers import BatchNormalization\n",
    "\n",
    "def load_cnn():\n",
    "    \n",
    "    model=Sequential()\n",
    "\n",
    "    model.add(Conv1D(filters=8,kernel_size=5,input_shape=data.shape[1:]))\n",
    "    model.add(BatchNormalization())\n",
    "    model.add(Conv1D(filters=8,kernel_size=3))\n",
    "    model.add(BatchNormalization())\n",
    "    model.add(Conv1D(filters=8,kernel_size=3))\n",
    "    model.add(BatchNormalization())\n",
    "    #model.add(Activation('relu'))\n",
    "    model.add(MaxPooling1D(pool_size=4))\n",
    "    model.add(Conv1D(filters=16,kernel_size=3))\n",
    "    model.add(BatchNormalization())\n",
    "    model.add(Conv1D(filters=16,kernel_size=3))\n",
    "    model.add(BatchNormalization())\n",
    "    model.add(Conv1D(filters=16,kernel_size=3))\n",
    "    model.add(BatchNormalization())\n",
    "    #model.add(Activation('relu'))\n",
    "    model.add(MaxPooling1D(pool_size=4))\n",
    "    model.add(Conv1D(filters=32,kernel_size=3))\n",
    "    model.add(BatchNormalization())\n",
    "    model.add(Conv1D(filters=32,kernel_size=3))\n",
    "    model.add(BatchNormalization())\n",
    "    model.add(Conv1D(filters=32,kernel_size=3))\n",
    "    model.add(BatchNormalization())\n",
    "    #model.add(Activation('relu'))\n",
    "    model.add(MaxPooling1D(pool_size=4))\n",
    "    model.add(Conv1D(filters=64,kernel_size=3))\n",
    "    model.add(BatchNormalization())\n",
    "    model.add(Conv1D(filters=64,kernel_size=3))\n",
    "    model.add(BatchNormalization())\n",
    "    model.add(Conv1D(filters=64,kernel_size=3))\n",
    "    model.add(BatchNormalization())\n",
    "    #model.add(Activation('relu'))\n",
    "    model.add(MaxPooling1D(pool_size=4))    \n",
    "    model.add(Flatten())\n",
    "    model.add(Dense(100,activation='relu'))\n",
    "    model.add(Dropout(0.5))\n",
    "    model.add(Dense(4,activation='sigmoid'))\n",
    "\n",
    "    from keras.optimizers import Adam\n",
    "    \n",
    "    learning_rate = 0.1\n",
    "    decay_rate = 2\n",
    "    momentum = 0.8\n",
    "    opt= Adam(lr=0.001, beta_1=0.9, beta_2=0.999, epsilon=1e-08, decay=decay_rate)\n",
    "    \n",
    "    model.compile(loss='categorical_crossentropy',optimizer='adam',metrics=['accuracy'])\n",
    "    \n",
    "    return model"
   ]
  },
  {
   "cell_type": "code",
   "execution_count": null,
   "metadata": {},
   "outputs": [],
   "source": [
    "import keras\n",
    "\n",
    "mc = keras.callbacks.ModelCheckpoint('weights/weights{epoch:08d}.h5', save_weights_only=True)\n",
    "model=load_cnn()\n",
    "#model.load_weights('wights_with_artificial_data/weights_NEW00000266.h5')\n",
    "history=model.fit(data[:15000],target[:15000],epochs=3,callbacks=[mc],)"
   ]
  },
  {
   "cell_type": "code",
   "execution_count": null,
   "metadata": {},
   "outputs": [],
   "source": [
    "from matplotlib import pyplot as plt\n",
    "\n",
    "print(model.evaluate(test_data,test_target))\n",
    "results=model.predict(data[15000:17000])\n",
    "plt.plot(np.argmax(target[15000:17000],axis=1),'b')\n",
    "plt.plot(np.argmax(results,axis=1),'r--')\n",
    "plt.show()"
   ]
  },
  {
   "cell_type": "code",
   "execution_count": null,
   "metadata": {},
   "outputs": [],
   "source": []
  },
  {
   "cell_type": "code",
   "execution_count": null,
   "metadata": {},
   "outputs": [],
   "source": [
    "print(model.evaluate(data[10000:15000],target[10000:15000]))\n",
    "results=model.predict(data[10000:15000])\n",
    "#print(np.argmax(target[10000:11000],axis=1))\n",
    "#print(np.argmax(results,axis=1))\n",
    "plt.plot(np.argmax(target[10000:15000],axis=1),'b')\n",
    "plt.plot(np.argmax(results,axis=1),'r')\n",
    "plt.show()"
   ]
  },
  {
   "cell_type": "code",
   "execution_count": null,
   "metadata": {},
   "outputs": [],
   "source": [
    "data.shape"
   ]
  },
  {
   "cell_type": "code",
   "execution_count": null,
   "metadata": {},
   "outputs": [],
   "source": [
    "history=model.fit(data[11000:20000],target[11000:20000],epochs=5,callbacks=[mc],)"
   ]
  },
  {
   "cell_type": "code",
   "execution_count": null,
   "metadata": {},
   "outputs": [],
   "source": [
    "print(model.evaluate(data[20000:25000],target[20000:25000]))\n",
    "results=model.predict(data[20000:25000])\n",
    "#plt.plot(np.argmax(target[20000:25000],axis=1),'b')\n",
    "plt.plot(np.argmax(results,axis=1),'r')\n",
    "plt.show()"
   ]
  },
  {
   "cell_type": "code",
   "execution_count": null,
   "metadata": {},
   "outputs": [],
   "source": [
    "history=model.fit(data[21000:30000],target[21000:30000],epochs=5,callbacks=[mc],)"
   ]
  },
  {
   "cell_type": "code",
   "execution_count": null,
   "metadata": {},
   "outputs": [],
   "source": [
    "print(model.evaluate(data[30000:35000],target[30000:35000]))\n",
    "\n",
    "\n",
    "plt.plot(np.argmax(target[30000:35000],axis=1),'b')\n",
    "plt.plot(np.argmax(results,axis=1),'r')\n",
    "plt.show()"
   ]
  },
  {
   "cell_type": "code",
   "execution_count": null,
   "metadata": {},
   "outputs": [],
   "source": [
    "history=model.fit(data[31000:40000],target[31000:40000],epochs=5,callbacks=[mc],)"
   ]
  },
  {
   "cell_type": "code",
   "execution_count": null,
   "metadata": {},
   "outputs": [],
   "source": [
    "print(model.evaluate(data[40000:41000],target[40000:41000]))\n",
    "results=model.predict(data[40000:41000])\n",
    "plt.plot(np.argmax(target[40000:41000],axis=1),'b')\n",
    "plt.plot(np.argmax(results,axis=1),'r')\n",
    "plt.show()"
   ]
  },
  {
   "cell_type": "code",
   "execution_count": null,
   "metadata": {},
   "outputs": [],
   "source": [
    "history=model.fit(data[41000:50000],target[41000:50000],epochs=5,callbacks=[mc],)"
   ]
  },
  {
   "cell_type": "code",
   "execution_count": null,
   "metadata": {},
   "outputs": [],
   "source": [
    "print(model.evaluate(data[50000:51000],target[50000:51000]))\n",
    "results=model.predict(data[50000:51000])\n",
    "plt.plot(np.argmax(target[50000:51000],axis=1),'b')\n",
    "plt.plot(np.argmax(results,axis=1),'r')\n",
    "plt.show()"
   ]
  },
  {
   "cell_type": "code",
   "execution_count": null,
   "metadata": {},
   "outputs": [],
   "source": [
    "history=model.fit(data[51000:60000],target[51000:60000],epochs=5,callbacks=[mc],)"
   ]
  },
  {
   "cell_type": "code",
   "execution_count": null,
   "metadata": {},
   "outputs": [],
   "source": [
    "print(model.evaluate(data[60000:61000],target[60000:61000]))\n",
    "results=model.predict(data[60000:61000])\n",
    "plt.plot(np.argmax(target[60000:61000],axis=1),'b')\n",
    "plt.plot(np.argmax(results,axis=1),'r')\n",
    "plt.show()"
   ]
  },
  {
   "cell_type": "code",
   "execution_count": null,
   "metadata": {},
   "outputs": [],
   "source": [
    "history=model.fit(data[61000:70000],target[61000:70000],epochs=5,callbacks=[mc],)"
   ]
  },
  {
   "cell_type": "code",
   "execution_count": null,
   "metadata": {},
   "outputs": [],
   "source": [
    "print(model.evaluate(data[70000:71000],target[70000:71000]))\n",
    "results=model.predict(data[70000:71000])\n",
    "plt.plot(np.argmax(target[70000:71000],axis=1),'b')\n",
    "plt.plot(np.argmax(results,axis=1),'r')\n",
    "plt.show()\n"
   ]
  },
  {
   "cell_type": "code",
   "execution_count": null,
   "metadata": {},
   "outputs": [],
   "source": [
    "history=model.fit(data[71000:80000],target[71000:80000],epochs=5,callbacks=[mc],)"
   ]
  },
  {
   "cell_type": "code",
   "execution_count": null,
   "metadata": {},
   "outputs": [],
   "source": [
    "print(model.evaluate(data[80000:81000],target[80000:81000]))\n",
    "results=model.predict(data[80000:81000])\n",
    "plt.plot(np.argmax(target[80000:81000],axis=1),'b')\n",
    "plt.plot(np.argmax(results,axis=1),'r')\n",
    "plt.show()"
   ]
  },
  {
   "cell_type": "code",
   "execution_count": null,
   "metadata": {},
   "outputs": [],
   "source": [
    "history=model.fit(data[81000:90000],target[81000:90000],epochs=5,callbacks=[mc],)"
   ]
  },
  {
   "cell_type": "code",
   "execution_count": null,
   "metadata": {},
   "outputs": [],
   "source": [
    "print(model.evaluate(data[90000:91000],target[90000:91000]))\n",
    "results=model.predict(data[90000:91000])\n",
    "plt.plot(np.argmax(target[90000:91000],axis=1),'b')\n",
    "plt.plot(np.argmax(results,axis=1),'r')\n",
    "plt.show()"
   ]
  },
  {
   "cell_type": "code",
   "execution_count": null,
   "metadata": {},
   "outputs": [],
   "source": [
    "from matplotlib import pyplot as plt\n",
    "\n",
    "for i in range(1,10,1):\n",
    "    results=model.predict(data[10000*i:10000*i+1000])\n",
    "    print(results)"
   ]
  },
  {
   "cell_type": "code",
   "execution_count": null,
   "metadata": {},
   "outputs": [],
   "source": [
    "model.predict(data[100000:100001])"
   ]
  },
  {
   "cell_type": "code",
   "execution_count": null,
   "metadata": {},
   "outputs": [],
   "source": [
    "data[100000:100001]"
   ]
  },
  {
   "cell_type": "code",
   "execution_count": null,
   "metadata": {},
   "outputs": [],
   "source": [
    "from matplotlib import pyplot as plt"
   ]
  },
  {
   "cell_type": "code",
   "execution_count": null,
   "metadata": {},
   "outputs": [],
   "source": [
    "target= np.load(os.path.join(path,'refrigerator_target.dat.npy'))"
   ]
  },
  {
   "cell_type": "code",
   "execution_count": null,
   "metadata": {},
   "outputs": [],
   "source": [
    "import collections\n",
    "print('refrigerator bins:',collections.Counter(target))"
   ]
  },
  {
   "cell_type": "code",
   "execution_count": null,
   "metadata": {},
   "outputs": [],
   "source": []
  }
 ],
 "metadata": {
  "kernelspec": {
   "display_name": "Python 3",
   "language": "python",
   "name": "python3"
  },
  "language_info": {
   "codemirror_mode": {
    "name": "ipython",
    "version": 3
   },
   "file_extension": ".py",
   "mimetype": "text/x-python",
   "name": "python",
   "nbconvert_exporter": "python",
   "pygments_lexer": "ipython3",
   "version": "3.6.8"
  }
 },
 "nbformat": 4,
 "nbformat_minor": 2
}
