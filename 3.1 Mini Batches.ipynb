{
 "cells": [
  {
   "cell_type": "code",
   "execution_count": 1,
   "metadata": {},
   "outputs": [],
   "source": [
    "import numpy as np\n",
    "import os\n",
    "import pandas as pd\n",
    "\n",
    "data_path='data'\n",
    "houses=['house_1','house_2','house_3','house_4','house_6']\n",
    "main={'house_1':'channel_1.dat','house_2':'channel_1.dat','house_3':'channel_1.dat','house_4':'channel_1.dat','house_5':'channel_1.dat','house_6':'channel_1.dat'}\n",
    "dishwasher={'house_1':'channel_6.dat','house_2':'channel_10.dat','house_3':'channel_9.dat','house_4':'channel_15.dat','house_5':'channel_20.dat','house_6':'None'}\n",
    "microwave={'house_1':'channel_11.dat','house_2':'channel_6.dat','house_3':'channel_16.dat','house_4':'None','house_5':'channel_3.dat','house_6':'None'}\n",
    "refrigerator={'house_1':'channel_5.dat','house_2':'channel_9.dat','house_3':'channel_7.dat','house_4':'None','house_5':'channel_18.dat','house_6':'channel_8.dat'}\n",
    "appliances=[dishwasher,microwave,refrigerator]"
   ]
  },
  {
   "cell_type": "code",
   "execution_count": 2,
   "metadata": {},
   "outputs": [
    {
     "name": "stdout",
     "output_type": "stream",
     "text": [
      "5331833\n"
     ]
    }
   ],
   "source": [
    "ref_mini_batch=[]\n",
    "mini_batch_count=0\n",
    "total_samples=0\n",
    "for house in houses:\n",
    "    channel=refrigerator[house]\n",
    "    if(channel!='None'):\n",
    "        channel_path=os.path.join(data_path,'TIMESTAMP_MATCHED',house,channel+'.npy')\n",
    "        dataset = np.load(channel_path)\n",
    "        time_stamp=dataset[:,0]\n",
    "        for i in range(len(time_stamp)-1):\n",
    "            if(time_stamp[i+1]-time_stamp[i]==1):\n",
    "                ref_mini_batch.append([dataset[i,1],dataset[i,2]])\n",
    "            else:\n",
    "                ref_mini_batch.append([dataset[i,1],dataset[i,2]])\n",
    "                if(np.array(ref_mini_batch).shape[0]>2400):\n",
    "                    total_samples=total_samples+np.array(ref_mini_batch).shape[0]\n",
    "                    channel_save_path=os.path.join(data_path,'MINI_BATCHES',house,'refrigerator_mini_batch'+str(mini_batch_count)+'.dat')\n",
    "                    np.save(channel_save_path,ref_mini_batch)\n",
    "                    np.savetxt(channel_save_path,ref_mini_batch)\n",
    "                    mini_batch_count=mini_batch_count+1\n",
    "                ref_mini_batch=[]\n",
    "        ref_mini_batch.append([dataset[i+1,1],dataset[i+1,2]])  \n",
    "        if(np.array(ref_mini_batch).shape[0]>2400):\n",
    "            total_samples=total_samples+np.array(ref_mini_batch).shape[0]\n",
    "            channel_save_path=os.path.join(data_path,'MINI_BATCHES',house,'refrigerator_mini_batch'+str(mini_batch_count)+'.dat')\n",
    "            np.save(channel_save_path,ref_mini_batch)\n",
    "            np.savetxt(channel_save_path,ref_mini_batch)\n",
    "print(total_samples)"
   ]
  },
  {
   "cell_type": "raw",
   "metadata": {},
   "source": [
    "dataset=np.array([[1,11,22],[2,12,23],[3,14,25],[6,14,25],[7,16,28],[10,19,21],[11,20,38],[12,40,58],[13,40,58],[16,30,32]])"
   ]
  },
  {
   "cell_type": "raw",
   "metadata": {},
   "source": [
    "ref_mini_batch=[]\n",
    "mini_batch_count=0\n",
    "time_stamp=dataset[:,0]\n",
    "for i in range(len(time_stamp)-1):\n",
    "    if(time_stamp[i+1]-time_stamp[i]==1):\n",
    "        ref_mini_batch.append([dataset[i,1],dataset[i,2]])\n",
    "    else:\n",
    "        ref_mini_batch.append([dataset[i,1],dataset[i,2]])\n",
    "        if(np.array(ref_mini_batch).shape[0]>2):\n",
    "            channel_save_path=os.path.join(data_path,'MINI_BATCHES','refrigerator_mini_batch'+str(mini_batch_count)+'.dat')\n",
    "            np.save(channel_save_path,ref_mini_batch)\n",
    "            np.savetxt(channel_save_path,ref_mini_batch)\n",
    "            mini_batch_count=mini_batch_count+1\n",
    "        ref_mini_batch=[]\n",
    "ref_mini_batch.append([dataset[i+1,1],dataset[i+1,2]])\n",
    "if(np.array(ref_mini_batch).shape[0]>2):\n",
    "    channel_save_path=os.path.join(data_path,'MINI_BATCHES','refrigerator_mini_batch'+str(mini_batch_count)+'.dat')\n",
    "    np.save(channel_save_path,ref_mini_batch)\n",
    "    np.savetxt(channel_save_path,ref_mini_batch)"
   ]
  },
  {
   "cell_type": "code",
   "execution_count": null,
   "metadata": {},
   "outputs": [],
   "source": []
  }
 ],
 "metadata": {
  "kernelspec": {
   "display_name": "Python 3",
   "language": "python",
   "name": "python3"
  },
  "language_info": {
   "codemirror_mode": {
    "name": "ipython",
    "version": 3
   },
   "file_extension": ".py",
   "mimetype": "text/x-python",
   "name": "python",
   "nbconvert_exporter": "python",
   "pygments_lexer": "ipython3",
   "version": "3.6.8"
  }
 },
 "nbformat": 4,
 "nbformat_minor": 2
}
