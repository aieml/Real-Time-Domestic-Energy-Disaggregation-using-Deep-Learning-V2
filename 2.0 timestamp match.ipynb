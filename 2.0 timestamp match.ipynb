{
 "cells": [
  {
   "cell_type": "code",
   "execution_count": 1,
   "metadata": {},
   "outputs": [],
   "source": [
    "import numpy as np\n",
    "import os\n",
    "import pandas as pd\n",
    "\n",
    "data_path='data'\n",
    "houses=['house_1','house_2','house_3','house_4','house_6']\n",
    "main={'house_1':'channel_1.dat','house_2':'channel_1.dat','house_3':'channel_1.dat','house_4':'channel_1.dat','house_5':'channel_1.dat','house_6':'channel_1.dat'}\n",
    "dishwasher={'house_1':'channel_6.dat','house_2':'channel_10.dat','house_3':'channel_9.dat','house_4':'channel_15.dat','house_5':'channel_20.dat','house_6':'None'}\n",
    "microwave={'house_1':'channel_11.dat','house_2':'channel_6.dat','house_3':'channel_16.dat','house_4':'None','house_5':'channel_3.dat','house_6':'None'}\n",
    "refrigerator={'house_1':'channel_5.dat','house_2':'channel_9.dat','house_3':'channel_7.dat','house_4':'None','house_5':'channel_18.dat','house_6':'channel_8.dat'}\n",
    "appliances=[dishwasher,microwave,refrigerator]\n",
    "new_dataset=[]"
   ]
  },
  {
   "cell_type": "code",
   "execution_count": 2,
   "metadata": {},
   "outputs": [
    {
     "name": "stdout",
     "output_type": "stream",
     "text": [
      "1576449\n",
      "1576449\n",
      "1576449\n",
      "1206340\n",
      "1206340\n",
      "1206340\n",
      "1468869\n",
      "1468869\n",
      "1468869\n",
      "1680061\n",
      "1596725\n"
     ]
    }
   ],
   "source": [
    "for house in houses:\n",
    "    main_path=os.path.join(data_path,'FORWARD_FILLED_20S',house,'channel_2.dat.npy')\n",
    "    main_dataset=np.load(main_path)\n",
    "    for appliance in appliances:\n",
    "        channel=appliance[house]\n",
    "        new_dataset=[]\n",
    "        if(channel!='None'):\n",
    "            channel_path=os.path.join(data_path,'FORWARD_FILLED_20S',house,channel+'.npy')\n",
    "            dataset = np.load(channel_path)\n",
    "            i=0\n",
    "            for time_stamp_main in main_dataset[:,0]:\n",
    "                available=np.where(dataset[:,0]==time_stamp_main)[0]\n",
    "                if(available.size!=0):\n",
    "                    appliance_index=available[0]\n",
    "                    #print('FOUND',time_stamp_main)\n",
    "                    new_dataset.append([time_stamp_main,main_dataset[i,1],dataset[appliance_index,1]])\n",
    "                i=i+1\n",
    "                    #print(time_stamp_main,main_dataset[i,1],dataset[i,1])\n",
    "            print(i)\n",
    "            channel_save_path=os.path.join(data_path,'TIMESTAMP_MATCHED',house,channel)\n",
    "            np.save(channel_save_path,np.array(new_dataset))\n",
    "            np.savetxt(channel_save_path,np.array(new_dataset))\n",
    "            #channel_save_path=os.path.join(data_path,'FORWARD_FILLED_20S',house,channel)\n",
    "            #np.save(channel_save_path,new_dataset)"
   ]
  },
  {
   "cell_type": "code",
   "execution_count": null,
   "metadata": {},
   "outputs": [],
   "source": []
  }
 ],
 "metadata": {
  "kernelspec": {
   "display_name": "Python 3",
   "language": "python",
   "name": "python3"
  },
  "language_info": {
   "codemirror_mode": {
    "name": "ipython",
    "version": 3
   },
   "file_extension": ".py",
   "mimetype": "text/x-python",
   "name": "python",
   "nbconvert_exporter": "python",
   "pygments_lexer": "ipython3",
   "version": "3.6.8"
  }
 },
 "nbformat": 4,
 "nbformat_minor": 2
}
