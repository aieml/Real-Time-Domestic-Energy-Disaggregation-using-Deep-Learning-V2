{
 "cells": [
  {
   "cell_type": "code",
   "execution_count": 21,
   "metadata": {},
   "outputs": [],
   "source": [
    "import pandas as pd\n",
    "import os\n",
    "import numpy as np\n",
    "\n",
    "path='data/APPENDED'\n",
    "data_path='data'\n",
    "ref_dataset= np.load(os.path.join(path,'refrigerator.dat.npy'))\n",
    "ref_data=ref_dataset[:,2].reshape(-1,1)"
   ]
  },
  {
   "cell_type": "code",
   "execution_count": 22,
   "metadata": {},
   "outputs": [
    {
     "name": "stdout",
     "output_type": "stream",
     "text": [
      "[[  6.64953227]\n",
      " [193.52627165]\n",
      " [456.50688195]]\n",
      "[1.30313293e+09 2.22200000e+02 6.00000000e+00]\n"
     ]
    }
   ],
   "source": [
    "from sklearn.cluster import KMeans\n",
    "from matplotlib import pyplot as plt\n",
    "ref_window_size=2401\n",
    "clsfr_ref=KMeans(n_clusters=3)\n",
    "clsfr_ref.fit(ref_data)\n",
    "cluster_centers_ref=clsfr_ref.cluster_centers_\n",
    "labels_ref=clsfr_ref.labels_\n",
    "\n",
    "print(cluster_centers_ref)\n",
    "ref_clustered=np.vstack((ref_dataset[:,1],labels_ref)).T\n",
    "\n",
    "#channel_save_path=os.path.join(data_path,'CLUSTERED','refrigerator.dat')\n",
    "#np.save(channel_save_path,ref_clustered)\n",
    "#np.savetxt(channel_save_path,ref_clustered)\n",
    "\n",
    "print(ref_dataset[0])\n",
    "\n",
    "for i in range(0,ref_dataset.shape[0]-ref_window_size-1,ref_window_size):\n",
    "    plt.plot(ref_dataset[i:i+ref_window_size,1],'b',label='MAIN')\n",
    "    plt.plot(labels_ref[i:i+ref_window_size]*100,'r--',label='APPL')\n",
    "    plt.legend()\n",
    "    plt.savefig('graphs_bin/'+str(i)+'-'+str(i+ref_window_size)+'.jpg')\n",
    "    plt.close()"
   ]
  },
  {
   "cell_type": "code",
   "execution_count": 14,
   "metadata": {},
   "outputs": [
    {
     "name": "stdout",
     "output_type": "stream",
     "text": [
      "refrigerator bins: Counter({0.0: 1184323, 1.0: 380334, 2.0: 11334})\n"
     ]
    }
   ],
   "source": [
    "import collections\n",
    "print('refrigerator bins:',collections.Counter(ref_clustered[:,1]))"
   ]
  },
  {
   "cell_type": "code",
   "execution_count": null,
   "metadata": {},
   "outputs": [],
   "source": []
  }
 ],
 "metadata": {
  "kernelspec": {
   "display_name": "Python 3",
   "language": "python",
   "name": "python3"
  },
  "language_info": {
   "codemirror_mode": {
    "name": "ipython",
    "version": 3
   },
   "file_extension": ".py",
   "mimetype": "text/x-python",
   "name": "python",
   "nbconvert_exporter": "python",
   "pygments_lexer": "ipython3",
   "version": "3.6.8"
  }
 },
 "nbformat": 4,
 "nbformat_minor": 2
}
