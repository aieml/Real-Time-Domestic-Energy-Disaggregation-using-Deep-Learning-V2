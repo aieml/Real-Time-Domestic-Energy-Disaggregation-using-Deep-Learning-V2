{
 "cells": [
  {
   "cell_type": "code",
   "execution_count": 2,
   "metadata": {},
   "outputs": [],
   "source": [
    "import numpy as np\n",
    "import os\n",
    "import pandas as pd\n",
    "\n",
    "avg_mini_batch=[]\n",
    "\n",
    "data_path='data'\n",
    "min_files=os.listdir(os.path.join(data_path,'MINI_BATCHES','house_1'))\n",
    "for file in min_files:\n",
    "    if file.endswith(\".npy\"):\n",
    "        channel_path=os.path.join(data_path,'MINI_BATCHES','house_1',file)\n",
    "        dataset = np.load(channel_path)\n",
    "        for i in range(0,dataset.shape[0]-5,4):\n",
    "            avg_main=np.average(dataset[i:i+4,0])\n",
    "            avg_appl=np.average(dataset[i:i+4,1])\n",
    "            avg_mini_batch.append([avg_main,avg_appl])\n",
    "        channel_save_path=os.path.join(data_path,'MINI_BATCHES_AVG',file+'.dat')\n",
    "        np.save(channel_save_path,avg_mini_batch)\n",
    "        np.savetxt(channel_save_path,avg_mini_batch)\n",
    "        avg_mini_batch=[]"
   ]
  },
  {
   "cell_type": "code",
   "execution_count": null,
   "metadata": {},
   "outputs": [],
   "source": []
  }
 ],
 "metadata": {
  "kernelspec": {
   "display_name": "Python 3",
   "language": "python",
   "name": "python3"
  },
  "language_info": {
   "codemirror_mode": {
    "name": "ipython",
    "version": 3
   },
   "file_extension": ".py",
   "mimetype": "text/x-python",
   "name": "python",
   "nbconvert_exporter": "python",
   "pygments_lexer": "ipython3",
   "version": "3.6.8"
  }
 },
 "nbformat": 4,
 "nbformat_minor": 2
}
