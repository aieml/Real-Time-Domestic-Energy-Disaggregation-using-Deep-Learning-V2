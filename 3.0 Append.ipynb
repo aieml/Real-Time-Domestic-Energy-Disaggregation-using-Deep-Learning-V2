{
 "cells": [
  {
   "cell_type": "code",
   "execution_count": 1,
   "metadata": {},
   "outputs": [],
   "source": [
    "import numpy as np\n",
    "import os\n",
    "import pandas as pd\n",
    "ref_window_size=2401\n",
    "\n",
    "data_path='data'\n",
    "houses=['house_1','house_2','house_3','house_4','house_6']\n",
    "main={'house_1':'channel_1.dat','house_2':'channel_1.dat','house_3':'channel_1.dat','house_4':'channel_1.dat','house_5':'channel_1.dat','house_6':'channel_1.dat'}\n",
    "dishwasher={'house_1':'channel_6.dat','house_2':'channel_10.dat','house_3':'channel_9.dat','house_4':'channel_15.dat','house_5':'channel_20.dat','house_6':'None'}\n",
    "microwave={'house_1':'channel_11.dat','house_2':'channel_6.dat','house_3':'channel_16.dat','house_4':'None','house_5':'channel_3.dat','house_6':'None'}\n",
    "refrigerator={'house_1':'channel_5.dat','house_2':'channel_9.dat','house_3':'channel_7.dat','house_4':'None','house_5':'channel_18.dat','house_6':'channel_8.dat'}\n",
    "appliances=[dishwasher,microwave,refrigerator]\n",
    "\n",
    "new_dataset=[]"
   ]
  },
  {
   "cell_type": "code",
   "execution_count": 2,
   "metadata": {},
   "outputs": [],
   "source": [
    "from matplotlib import pyplot as plt\n",
    "\n",
    "datasets=[]\n",
    "\n",
    "for house in houses:\n",
    "    for appliance in appliances:\n",
    "        channel=appliance[house]\n",
    "        if(channel!='None'):\n",
    "            channel_path=os.path.join(data_path,'TIMESTAMP_MATCHED',house,channel+'.npy')\n",
    "            dataset = np.load(channel_path)\n",
    "            for i in range(0,dataset.shape[0]-ref_window_size-1,ref_window_size):\n",
    "                plt.plot(dataset[i:i+ref_window_size,1],'b',label='MAIN')\n",
    "                plt.plot(dataset[i:i+ref_window_size,2],'r--',label='APPL')\n",
    "                plt.legend()\n",
    "                plt.savefig('graphs/'+house+'/'+channel+str(i)+'-'+str(i+ref_window_size)+'.jpg')\n",
    "                plt.close()"
   ]
  },
  {
   "cell_type": "code",
   "execution_count": null,
   "metadata": {},
   "outputs": [],
   "source": [
    "            datasets.append(dataset)\n",
    "\n",
    "ref_appended=np.concatenate(datasets, axis=0)\n",
    "channel_save_path=os.path.join(data_path,'APPENDED','refrigerator.dat')\n",
    "np.save(channel_save_path,ref_appended)\n",
    "np.savetxt(channel_save_path,ref_appended)"
   ]
  },
  {
   "cell_type": "code",
   "execution_count": null,
   "metadata": {},
   "outputs": [],
   "source": []
  }
 ],
 "metadata": {
  "kernelspec": {
   "display_name": "Python 3",
   "language": "python",
   "name": "python3"
  },
  "language_info": {
   "codemirror_mode": {
    "name": "ipython",
    "version": 3
   },
   "file_extension": ".py",
   "mimetype": "text/x-python",
   "name": "python",
   "nbconvert_exporter": "python",
   "pygments_lexer": "ipython3",
   "version": "3.6.8"
  }
 },
 "nbformat": 4,
 "nbformat_minor": 2
}
