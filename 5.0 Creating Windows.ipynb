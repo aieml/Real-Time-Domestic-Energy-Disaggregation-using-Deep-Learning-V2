{
 "cells": [
  {
   "cell_type": "code",
   "execution_count": 26,
   "metadata": {},
   "outputs": [
    {
     "name": "stdout",
     "output_type": "stream",
     "text": [
      "[222.2   0. ]\n"
     ]
    }
   ],
   "source": [
    "import pandas as pd\n",
    "import os\n",
    "import numpy as np\n",
    "\n",
    "path='data/CLUSTERED'\n",
    "data_path='data'\n",
    "ref_dataset= np.load(os.path.join(path,'refrigerator.dat.npy'))\n",
    "print(ref_dataset[0])\n",
    "ref_bins=4\n",
    "ref_window_size=2401\n",
    "\n",
    "bin_max_count=[0 for i in range(ref_bins)]"
   ]
  },
  {
   "cell_type": "code",
   "execution_count": 24,
   "metadata": {},
   "outputs": [
    {
     "name": "stdout",
     "output_type": "stream",
     "text": [
      "48442\n"
     ]
    }
   ],
   "source": [
    "import collections\n",
    "bin_dict=collections.Counter(ref_dataset[:,1])\n",
    "\n",
    "ref_data=[]\n",
    "ref_target=[]\n",
    "\n",
    "key_min = min(bin_dict.keys(), key=(lambda k: bin_dict[k]))\n",
    "ref_min_bin=bin_dict[key_min]\n",
    "print(ref_min_bin)\n",
    "for i in range(ref_dataset.shape[0]-ref_window_size-1):\n",
    "    if(ref_dataset[i+ref_window_size-1,1]==0):\n",
    "        bin_max_count[0]=bin_max_count[0]+1\n",
    "        if(bin_max_count[0]<10000):\n",
    "            ref_data.append(ref_dataset[i:i+ref_window_size,0])\n",
    "            ref_target.append(ref_dataset[i+ref_window_size-1,1])\n",
    "        else:\n",
    "            pass\n",
    "    elif(ref_dataset[i+ref_window_size-1,1]==1):\n",
    "        bin_max_count[1]=bin_max_count[1]+1\n",
    "        if(bin_max_count[1]<10000):\n",
    "            ref_data.append(ref_dataset[i:i+ref_window_size,0])\n",
    "            ref_target.append(ref_dataset[i+ref_window_size-1,1])\n",
    "        else:\n",
    "            pass\n",
    "    elif(ref_dataset[i+ref_window_size-1,1]==2):\n",
    "        bin_max_count[2]=bin_max_count[2]+1\n",
    "        if(bin_max_count[2]<10000):\n",
    "            ref_data.append(ref_dataset[i:i+ref_window_size,0])\n",
    "            ref_target.append(ref_dataset[i+ref_window_size-1,1])\n",
    "        else:\n",
    "            pass\n",
    "    elif(ref_dataset[i+ref_window_size-1,1]==3):\n",
    "        bin_max_count[3]=bin_max_count[3]+1\n",
    "        if(bin_max_count[3]<10000):\n",
    "            ref_data.append(ref_dataset[i:i+ref_window_size,0])\n",
    "            ref_target.append(ref_dataset[i+ref_window_size-1,1])\n",
    "        else:\n",
    "            pass\n",
    "    else:\n",
    "        print('ERROR')"
   ]
  },
  {
   "cell_type": "code",
   "execution_count": 25,
   "metadata": {},
   "outputs": [],
   "source": [
    "ref_data=np.array(ref_data)\n",
    "ref_target=np.array(ref_target)\n",
    "\n",
    "channel_data_save_path=os.path.join(data_path,'WINDOWED','refrigerator_data.dat')\n",
    "np.save(channel_data_save_path,ref_data)\n",
    "np.savetxt(channel_data_save_path,ref_data)\n",
    "\n",
    "channel_target_save_path=os.path.join(data_path,'WINDOWED','refrigerator_target.dat')\n",
    "np.save(channel_target_save_path,ref_target)\n",
    "np.savetxt(channel_target_save_path,ref_target)"
   ]
  },
  {
   "cell_type": "code",
   "execution_count": 21,
   "metadata": {},
   "outputs": [
    {
     "data": {
      "text/plain": [
       "2.0"
      ]
     },
     "execution_count": 21,
     "metadata": {},
     "output_type": "execute_result"
    }
   ],
   "source": [
    "key_min"
   ]
  },
  {
   "cell_type": "code",
   "execution_count": 22,
   "metadata": {},
   "outputs": [
    {
     "data": {
      "text/plain": [
       "Counter({0.0: 999, 2.0: 999, 1.0: 999, 3.0: 999})"
      ]
     },
     "execution_count": 22,
     "metadata": {},
     "output_type": "execute_result"
    }
   ],
   "source": [
    "collections.Counter(ref_target)"
   ]
  },
  {
   "cell_type": "code",
   "execution_count": 16,
   "metadata": {},
   "outputs": [
    {
     "data": {
      "text/plain": [
       "[3499990, 1152206, 48442, 962929]"
      ]
     },
     "execution_count": 16,
     "metadata": {},
     "output_type": "execute_result"
    }
   ],
   "source": [
    "bin_max_count"
   ]
  },
  {
   "cell_type": "code",
   "execution_count": null,
   "metadata": {},
   "outputs": [],
   "source": []
  }
 ],
 "metadata": {
  "kernelspec": {
   "display_name": "Python 3",
   "language": "python",
   "name": "python3"
  },
  "language_info": {
   "codemirror_mode": {
    "name": "ipython",
    "version": 3
   },
   "file_extension": ".py",
   "mimetype": "text/x-python",
   "name": "python",
   "nbconvert_exporter": "python",
   "pygments_lexer": "ipython3",
   "version": "3.6.8"
  }
 },
 "nbformat": 4,
 "nbformat_minor": 2
}
