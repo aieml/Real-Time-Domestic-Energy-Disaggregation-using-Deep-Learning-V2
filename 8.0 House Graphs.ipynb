{
 "cells": [
  {
   "cell_type": "code",
   "execution_count": 1,
   "metadata": {},
   "outputs": [],
   "source": [
    "import os\n",
    "import numpy as np\n",
    "\n",
    "data_path='data'\n",
    "houses=['house_1','house_2','house_3','house_4','house_6']\n",
    "main={'house_1':'channel_1.dat','house_2':'channel_1.dat','house_3':'channel_1.dat','house_4':'channel_1.dat','house_5':'channel_1.dat','house_6':'channel_1.dat'}\n",
    "dishwasher={'house_1':'channel_6.dat','house_2':'channel_10.dat','house_3':'channel_9.dat','house_4':'channel_15.dat','house_5':'channel_20.dat','house_6':'None'}\n",
    "microwave={'house_1':'channel_11.dat','house_2':'channel_6.dat','house_3':'channel_16.dat','house_4':'None','house_5':'channel_3.dat','house_6':'None'}\n",
    "refrigerator={'house_1':'channel_5.dat','house_2':'channel_9.dat','house_3':'channel_7.dat','house_4':'None','house_5':'channel_18.dat','house_6':'channel_8.dat'}\n",
    "appliances=[dishwasher,microwave,refrigerator]\n",
    "new_dataset=[]"
   ]
  },
  {
   "cell_type": "code",
   "execution_count": 2,
   "metadata": {},
   "outputs": [
    {
     "ename": "FileNotFoundError",
     "evalue": "[Errno 2] No such file or directory: 'data\\\\TIMESTAMP_MATCHED\\\\house_1\\\\channel_1.dat.npy'",
     "output_type": "error",
     "traceback": [
      "\u001b[1;31m---------------------------------------------------------------------------\u001b[0m",
      "\u001b[1;31mFileNotFoundError\u001b[0m                         Traceback (most recent call last)",
      "\u001b[1;32m<ipython-input-2-2a9f1158b949>\u001b[0m in \u001b[0;36m<module>\u001b[1;34m\u001b[0m\n\u001b[0;32m      1\u001b[0m \u001b[1;32mfor\u001b[0m \u001b[0mhouse\u001b[0m \u001b[1;32min\u001b[0m \u001b[0mhouses\u001b[0m\u001b[1;33m:\u001b[0m\u001b[1;33m\u001b[0m\u001b[1;33m\u001b[0m\u001b[0m\n\u001b[0;32m      2\u001b[0m     \u001b[0mmain_path\u001b[0m\u001b[1;33m=\u001b[0m\u001b[0mos\u001b[0m\u001b[1;33m.\u001b[0m\u001b[0mpath\u001b[0m\u001b[1;33m.\u001b[0m\u001b[0mjoin\u001b[0m\u001b[1;33m(\u001b[0m\u001b[0mdata_path\u001b[0m\u001b[1;33m,\u001b[0m\u001b[1;34m'TIMESTAMP_MATCHED'\u001b[0m\u001b[1;33m,\u001b[0m\u001b[0mhouse\u001b[0m\u001b[1;33m,\u001b[0m\u001b[1;34m'channel_1.dat.npy'\u001b[0m\u001b[1;33m)\u001b[0m\u001b[1;33m\u001b[0m\u001b[1;33m\u001b[0m\u001b[0m\n\u001b[1;32m----> 3\u001b[1;33m     \u001b[0mmain_dataset\u001b[0m\u001b[1;33m=\u001b[0m\u001b[0mnp\u001b[0m\u001b[1;33m.\u001b[0m\u001b[0mload\u001b[0m\u001b[1;33m(\u001b[0m\u001b[0mmain_path\u001b[0m\u001b[1;33m)\u001b[0m\u001b[1;33m\u001b[0m\u001b[1;33m\u001b[0m\u001b[0m\n\u001b[0m\u001b[0;32m      4\u001b[0m     \u001b[1;32mfor\u001b[0m \u001b[0mappliance\u001b[0m \u001b[1;32min\u001b[0m \u001b[0mappliances\u001b[0m\u001b[1;33m:\u001b[0m\u001b[1;33m\u001b[0m\u001b[1;33m\u001b[0m\u001b[0m\n\u001b[0;32m      5\u001b[0m         \u001b[0mchannel\u001b[0m\u001b[1;33m=\u001b[0m\u001b[0mappliance\u001b[0m\u001b[1;33m[\u001b[0m\u001b[0mhouse\u001b[0m\u001b[1;33m]\u001b[0m\u001b[1;33m\u001b[0m\u001b[1;33m\u001b[0m\u001b[0m\n",
      "\u001b[1;32mD:\\Programs\\Anaconda\\lib\\site-packages\\numpy\\lib\\npyio.py\u001b[0m in \u001b[0;36mload\u001b[1;34m(file, mmap_mode, allow_pickle, fix_imports, encoding)\u001b[0m\n\u001b[0;32m    413\u001b[0m         \u001b[0mown_fid\u001b[0m \u001b[1;33m=\u001b[0m \u001b[1;32mFalse\u001b[0m\u001b[1;33m\u001b[0m\u001b[1;33m\u001b[0m\u001b[0m\n\u001b[0;32m    414\u001b[0m     \u001b[1;32melse\u001b[0m\u001b[1;33m:\u001b[0m\u001b[1;33m\u001b[0m\u001b[1;33m\u001b[0m\u001b[0m\n\u001b[1;32m--> 415\u001b[1;33m         \u001b[0mfid\u001b[0m \u001b[1;33m=\u001b[0m \u001b[0mopen\u001b[0m\u001b[1;33m(\u001b[0m\u001b[0mos_fspath\u001b[0m\u001b[1;33m(\u001b[0m\u001b[0mfile\u001b[0m\u001b[1;33m)\u001b[0m\u001b[1;33m,\u001b[0m \u001b[1;34m\"rb\"\u001b[0m\u001b[1;33m)\u001b[0m\u001b[1;33m\u001b[0m\u001b[1;33m\u001b[0m\u001b[0m\n\u001b[0m\u001b[0;32m    416\u001b[0m         \u001b[0mown_fid\u001b[0m \u001b[1;33m=\u001b[0m \u001b[1;32mTrue\u001b[0m\u001b[1;33m\u001b[0m\u001b[1;33m\u001b[0m\u001b[0m\n\u001b[0;32m    417\u001b[0m \u001b[1;33m\u001b[0m\u001b[0m\n",
      "\u001b[1;31mFileNotFoundError\u001b[0m: [Errno 2] No such file or directory: 'data\\\\TIMESTAMP_MATCHED\\\\house_1\\\\channel_1.dat.npy'"
     ]
    }
   ],
   "source": [
    "for house in houses:\n",
    "    main_path=os.path.join(data_path,'TIMESTAMP_MATCHED',house,'channel_2.dat.npy')\n",
    "    main_dataset=np.load(main_path)\n",
    "    for appliance in appliances:\n",
    "        channel=appliance[house]\n",
    "        new_dataset=[]\n",
    "        if(channel!='None'):\n",
    "            channel_path=os.path.join(data_path,'TIMESTAMP_MATCHED',house,channel+'.npy')\n",
    "            dataset = np.load(channel_path)\n",
    "            print(dataset[0],dataset.shape)\n",
    "            print(main_dataset[0],main_dataset.shape)"
   ]
  },
  {
   "cell_type": "code",
   "execution_count": null,
   "metadata": {},
   "outputs": [],
   "source": []
  }
 ],
 "metadata": {
  "kernelspec": {
   "display_name": "Python 3",
   "language": "python",
   "name": "python3"
  },
  "language_info": {
   "codemirror_mode": {
    "name": "ipython",
    "version": 3
   },
   "file_extension": ".py",
   "mimetype": "text/x-python",
   "name": "python",
   "nbconvert_exporter": "python",
   "pygments_lexer": "ipython3",
   "version": "3.6.8"
  }
 },
 "nbformat": 4,
 "nbformat_minor": 2
}
